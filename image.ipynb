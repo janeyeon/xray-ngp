{
 "cells": [
  {
   "cell_type": "code",
   "execution_count": 1,
   "metadata": {},
   "outputs": [],
   "source": [
    "import os\n",
    "import numpy as np\n",
    "import cv2\n",
    "from PIL import Image, ImageSequence"
   ]
  },
  {
   "cell_type": "code",
   "execution_count": 9,
   "metadata": {},
   "outputs": [],
   "source": [
    "# Resize the image\n",
    "image_path = \"./data/knee/images/knee\"\n",
    "# Calculate the desired aspect ratio\n",
    "# desired_width, desired_height = 1916, 1536\n",
    "# aspect_ratio = float(desired_width) / desired_height\n",
    "\n",
    "for i in range(72):\n",
    "    image_name = f\"/01_xray{i:04d}.png\"\n",
    "    tmp_image_path = image_path + image_name\n",
    "    output_path = f\"./data/peppers/images/background\" + image_name\n",
    "    # load the image\n",
    "    image = cv2.imread(tmp_image_path, cv2.IMREAD_UNCHANGED)\n",
    "    # Get the current image dimensions\n",
    "    # current_height, current_width = image.shape[:2]\n",
    "    # Calculate the new dimensions while maintaining the aspect ratio\n",
    "    # if current_width / current_height > aspect_ratio:\n",
    "    #     new_width = int(current_height * aspect_ratio)\n",
    "    #     new_height = current_height\n",
    "    # else:\n",
    "    #     new_width = current_width\n",
    "    #     new_height = int(current_width / aspect_ratio)\n",
    "    new_height, new_width = current_height, current_width\n",
    "        \n",
    "     # Resize the image using the calculated dimensions\n",
    "    resized_image = cv2.resize(image, (new_width, new_height), interpolation=cv2.INTER_AREA)\n",
    "    # Create a new blank image with the desired size\n",
    "    output_image = np.zeros((desired_height, desired_width, 4), dtype=np.uint8)\n",
    "     # Calculate the position to paste the resized image\n",
    "    start_x = (desired_width - new_width) // 2\n",
    "    start_y = (desired_height - new_height) // 2\n",
    "\n",
    "    # Paste the resized image onto the blank image\n",
    "    output_image[start_y:start_y + new_height, start_x:start_x + new_width] = resized_image\n",
    "\n",
    "    # Save the output image\n",
    "    cv2.imwrite(output_path, output_image)\n",
    "     \n",
    "    \n",
    "    "
   ]
  },
  {
   "cell_type": "code",
   "execution_count": 23,
   "metadata": {},
   "outputs": [],
   "source": [
    "# Resize the image\n",
    "# Calculate the desired aspect ratio\n",
    "# desired_width, desired_height = 1916, 1536\n",
    "# aspect_ratio = float(desired_width) / desired_height\n",
    "threshold = 10\n",
    "\n",
    "for i in range(72):\n",
    "    image_name = f\"/01_xray{i:04d}.png\"\n",
    "    tmp_image_path = \"./data/knee/images/knee\" + image_name\n",
    "    output_path = \"./data/knee/images/background\" + image_name\n",
    "    # load the image\n",
    "    image = cv2.imread(tmp_image_path, cv2.IMREAD_UNCHANGED) # [128, 128]\n",
    "    \n",
    "    # find black background part \n",
    "    val = cv2.split(image)\n",
    "    # _, mask_b = cv2.threshold(b, 1, 255, cv2.THRESH_BINARY)\n",
    "    # _, mask_g = cv2.threshold(g, 1, 255, cv2.THRESH_BINARY)\n",
    "    # _, mask_r = cv2.threshold(r, 1, 255, cv2.THRESH_BINARY)\n",
    "    # mask = cv2.bitwise_and(mask_b, mask_g, mask_r)\n",
    "    alpha = image > threshold\n",
    "\n",
    "    # convert alpha to zero \n",
    "    alpha = np.uint8(alpha * 255)\n",
    "    \n",
    "    # restore it \n",
    "    output_image = np.stack((val[0], val[0], val[0], alpha), axis=-1)\n",
    "\n",
    "    # Save the output image\n",
    "    cv2.imwrite(output_path, output_image)\n",
    "     "
   ]
  }
 ],
 "metadata": {
  "kernelspec": {
   "display_name": "pure-ngp",
   "language": "python",
   "name": "python3"
  },
  "language_info": {
   "codemirror_mode": {
    "name": "ipython",
    "version": 3
   },
   "file_extension": ".py",
   "mimetype": "text/x-python",
   "name": "python",
   "nbconvert_exporter": "python",
   "pygments_lexer": "ipython3",
   "version": "3.9.11"
  },
  "orig_nbformat": 4
 },
 "nbformat": 4,
 "nbformat_minor": 2
}
